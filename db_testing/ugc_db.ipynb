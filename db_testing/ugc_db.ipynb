{
 "cells": [
  {
   "cell_type": "code",
   "execution_count": null,
   "id": "0724be02",
   "metadata": {},
   "outputs": [],
   "source": [
    "\"\"\" \n",
    "Исследование базы данных для хранения пользовательского контента\n",
    "Объект: `MongoDB`.\n",
    "\n",
    "Данные, которые вам необходимо сохранить:\n",
    "- лайки пользователей к каждому фильму;\n",
    "- рецензии к фильмам;\n",
    "- закладки пользователя (отложенные на потом фильмы).\n",
    "\n",
    "Требования к скорости обработки данных = 200 мс.\n",
    "\n",
    "Измеряемые параметры:\n",
    " - время на запись данных\n",
    " - время на чтение данных\n",
    "\n",
    "Вывод: данное хранилище удовлетворяет заявленным требованиям.\n",
    "\"\"\"\n"
   ]
  },
  {
   "cell_type": "code",
   "execution_count": 1,
   "id": "d880bf2d",
   "metadata": {},
   "outputs": [
    {
     "name": "stdout",
     "output_type": "stream",
     "text": [
      "Collecting pymongo\n",
      "  Downloading pymongo-4.3.3-cp38-cp38-macosx_10_9_x86_64.whl (381 kB)\n",
      "\u001b[K     |████████████████████████████████| 381 kB 830 kB/s eta 0:00:01\n",
      "\u001b[?25hCollecting dnspython<3.0.0,>=1.16.0\n",
      "  Using cached dnspython-2.2.1-py3-none-any.whl (269 kB)\n",
      "Installing collected packages: dnspython, pymongo\n",
      "Successfully installed dnspython-2.2.1 pymongo-4.3.3\n",
      "\u001b[33mWARNING: You are using pip version 21.1.1; however, version 22.3.1 is available.\n",
      "You should consider upgrading via the '/Library/Frameworks/Python.framework/Versions/3.8/bin/python3.8 -m pip install --upgrade pip' command.\u001b[0m\n"
     ]
    }
   ],
   "source": [
    "import sys\n",
    "\n",
    "!{sys.executable} -m pip install pymongo"
   ]
  },
  {
   "cell_type": "code",
   "execution_count": 48,
   "id": "40e4e9db",
   "metadata": {},
   "outputs": [],
   "source": [
    "from pymongo import MongoClient\n",
    "\n",
    "# client = MongoClient('localhost:27017', username='superuser', password='123qwe')\n",
    "client = MongoClient('localhost:27017')\n",
    "database = client['movies']\n",
    "reviews = database['reviews']\n",
    "likes = database['likes']\n",
    "bookmarks = database['bookmarks']\n",
    "\n",
    "reviews.drop()\n",
    "likes.drop()\n",
    "bookmarks.drop()"
   ]
  },
  {
   "cell_type": "code",
   "execution_count": 28,
   "id": "1627ddcc",
   "metadata": {},
   "outputs": [],
   "source": [
    "def insert(collection, objects) -> int:\n",
    "    for i in objects:\n",
    "        result = collection.insert_many(i, ordered=False, bypass_document_validation=True)\n",
    "#     return result.inserted_ids"
   ]
  },
  {
   "cell_type": "code",
   "execution_count": 49,
   "id": "82453814",
   "metadata": {},
   "outputs": [],
   "source": [
    "import uuid\n",
    "from bson import ObjectId\n",
    "\n",
    "user_id = str(uuid.uuid4())\n",
    "\n",
    "users = []\n",
    "def generate_reviews():\n",
    "    user_id = str(uuid.uuid4())\n",
    "    users.append(user_id)\n",
    "    for i in range(1000, 10000, 1000):\n",
    "        yield [{\n",
    "        '_id': ObjectId(),\n",
    "        'user_id': user_id,\n",
    "        'movie_id': str(uuid.uuid4()),\n",
    "        'value': uuid.uuid4().hex\n",
    "    } for i in range(i)]\n",
    "    "
   ]
  },
  {
   "cell_type": "code",
   "execution_count": 50,
   "id": "63925585",
   "metadata": {
    "scrolled": false
   },
   "outputs": [
    {
     "name": "stdout",
     "output_type": "stream",
     "text": [
      "0.0015286316871643067\n"
     ]
    }
   ],
   "source": [
    "import time\n",
    "\n",
    "start = time.time()\n",
    "insert(reviews, generate_reviews())\n",
    "duration = time.time() - start\n",
    "print(duration / len(objects))"
   ]
  },
  {
   "cell_type": "code",
   "execution_count": 51,
   "id": "39b98a7b",
   "metadata": {},
   "outputs": [
    {
     "name": "stdout",
     "output_type": "stream",
     "text": [
      "0.35126495361328125 45000 7.805887858072916e-06\n"
     ]
    }
   ],
   "source": [
    "start = time.time()\n",
    "result = list(reviews.find({'user_id': users[0]}))\n",
    "duration = time.time() - start\n",
    "print(duration, len(result), duration / len(result))"
   ]
  },
  {
   "cell_type": "code",
   "execution_count": 52,
   "id": "af563b10",
   "metadata": {},
   "outputs": [],
   "source": [
    "from random import randrange\n",
    "\n",
    "user_id = str(uuid.uuid4())\n",
    "\n",
    "users = []\n",
    "def generate_movie_likes(border: int):\n",
    "    user_id = str(uuid.uuid4())\n",
    "    users.append(user_id)\n",
    "    for i in range(1000, border, 1000):\n",
    "        yield [{\n",
    "        '_id': ObjectId(),\n",
    "        'user_id': user_id,\n",
    "        'movie_id': str(uuid.uuid4()),\n",
    "        'value': randrange(11)\n",
    "    } for i in range(i)]"
   ]
  },
  {
   "cell_type": "code",
   "execution_count": 53,
   "id": "751c3e5d",
   "metadata": {},
   "outputs": [
    {
     "name": "stdout",
     "output_type": "stream",
     "text": [
      "1.2999422550201416 0.00012999422550201417\n"
     ]
    }
   ],
   "source": [
    "border = 10_000\n",
    "start = time.time()\n",
    "insert(likes, generate_movie_likes(border))\n",
    "duration = time.time() - start\n",
    "print(duration, duration / border)"
   ]
  },
  {
   "cell_type": "code",
   "execution_count": null,
   "id": "78ce70c6",
   "metadata": {},
   "outputs": [],
   "source": [
    "start = time.time()\n",
    "result = list(likes.find({'user_id': users[0]}))\n",
    "duration = time.time() - start\n",
    "print(duration, len(result), duration / len(result))"
   ]
  },
  {
   "cell_type": "code",
   "execution_count": 59,
   "id": "c40e7ca1",
   "metadata": {},
   "outputs": [],
   "source": [
    "movies = []\n",
    "\n",
    "def generate_user_bookmarks(border: int):\n",
    "    movie_id = str(uuid.uuid4())\n",
    "    movies.append(movie_id)\n",
    "    for i in range(1000, border, 1000):\n",
    "        yield [{\n",
    "        '_id': ObjectId(),\n",
    "        'movie_id': movie_id,\n",
    "        'user_id': str(uuid.uuid4())\n",
    "    } for i in range(i)]"
   ]
  },
  {
   "cell_type": "code",
   "execution_count": 60,
   "id": "f0ee30e9",
   "metadata": {},
   "outputs": [
    {
     "name": "stdout",
     "output_type": "stream",
     "text": [
      "1.1298818588256836 0.00011298818588256835\n"
     ]
    }
   ],
   "source": [
    "border = 10_000\n",
    "start = time.time()\n",
    "insert(bookmarks, generate_user_bookmarks(border))\n",
    "duration = time.time() - start\n",
    "print(duration, duration / border)"
   ]
  },
  {
   "cell_type": "code",
   "execution_count": 61,
   "id": "3ad276bf",
   "metadata": {},
   "outputs": [
    {
     "name": "stdout",
     "output_type": "stream",
     "text": [
      "0.39101195335388184 45000 8.689154518975153e-06\n"
     ]
    }
   ],
   "source": [
    "start = time.time()\n",
    "result = list(bookmarks.find({'movie_id': movies[0]}))\n",
    "duration = time.time() - start\n",
    "print(duration, len(result), duration / len(result))"
   ]
  }
 ],
 "metadata": {
  "kernelspec": {
   "display_name": "Python 3 (ipykernel)",
   "language": "python",
   "name": "python3"
  },
  "language_info": {
   "codemirror_mode": {
    "name": "ipython",
    "version": 3
   },
   "file_extension": ".py",
   "mimetype": "text/x-python",
   "name": "python",
   "nbconvert_exporter": "python",
   "pygments_lexer": "ipython3",
   "version": "3.8.10"
  }
 },
 "nbformat": 4,
 "nbformat_minor": 5
}
