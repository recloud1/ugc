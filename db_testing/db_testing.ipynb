{
 "cells": [
  {
   "cell_type": "code",
   "execution_count": null,
   "id": "10dbe62f",
   "metadata": {},
   "outputs": [],
   "source": [
    "\"\"\" \n",
    "Сравнение Clickhouse и Vertica\n",
    "\n",
    "Используемый датасет: https://www.kaggle.com/datasets/souhagaa/nasa-access-log-dataset-1995?select=data.csv\n",
    "\"\"\"\n"
   ]
  },
  {
   "cell_type": "code",
   "execution_count": 151,
   "id": "3a8903ef",
   "metadata": {
    "scrolled": true
   },
   "outputs": [],
   "source": [
    "import os\n",
    "import pandas as pd\n",
    "\n",
    "data = pd.read_csv('data.csv', delimiter = ',', nrows=100000)\n",
    "data.rename(columns={'Unnamed: 0':'id'}, inplace=True)\n",
    "data = data.drop('bytes', axis=1)\n",
    "data = data.drop('url', axis=1)"
   ]
  },
  {
   "cell_type": "code",
   "execution_count": 158,
   "id": "fa0d5c21",
   "metadata": {},
   "outputs": [],
   "source": [
    "import vertica_python\n",
    "\n",
    "connection_info = {\n",
    "    'host': '127.0.0.1',\n",
    "    'port': 5433,\n",
    "    'user': 'dbadmin',\n",
    "    'password': '',\n",
    "    'database': 'docker',\n",
    "    'autocommit': True,\n",
    "}\n",
    "\n",
    "def drop_table():\n",
    "    with vertica_python.connect(**connection_info) as connection:\n",
    "        cursor = connection.cursor()\n",
    "        cursor.execute('DROP TABLE test_table')\n",
    "    \n",
    "\n",
    "def create_table():\n",
    "    with vertica_python.connect(**connection_info) as connection:\n",
    "        cursor = connection.cursor()\n",
    "    \n",
    "        cursor.execute(\"\"\"\n",
    "        CREATE TABLE test_table (\n",
    "            id INTEGER,\n",
    "            host VARCHAR(256) NOT NULL,\n",
    "            time INTEGER NOT NULL,\n",
    "            method VARCHAR(12) NOT NULL,\n",
    "            response INTEGER NOT NULL\n",
    "        );\n",
    "        \"\"\")\n",
    "\n",
    "insert_data = [tuple(i) for i in data.values.tolist()[:1000]]\n",
    "def insert():\n",
    "    with vertica_python.connect(**connection_info) as connection:\n",
    "        cursor = connection.cursor()\n",
    "\n",
    "        cursor.executemany(\"\"\"\n",
    "        INSERT INTO test_table (id, host, time, method, response) VALUES (%s, %s, %s, %s, %s);\n",
    "        \"\"\", insert_data)\n",
    "\n",
    "def select():\n",
    "    with vertica_python.connect(**connection_info) as connection:\n",
    "        cursor = connection.cursor()\n",
    "\n",
    "        cursor.execute(\"\"\"\n",
    "            SELECT * FROM test_table;\n",
    "        \"\"\")\n",
    "\n",
    "drop_table()\n",
    "create_table()"
   ]
  },
  {
   "cell_type": "code",
   "execution_count": 159,
   "id": "55dfdd94",
   "metadata": {},
   "outputs": [
    {
     "name": "stdout",
     "output_type": "stream",
     "text": [
      "30.6 ms ± 1.5 ms per loop (mean ± std. dev. of 7 runs, 10 loops each)\n"
     ]
    }
   ],
   "source": [
    "%timeit insert()"
   ]
  },
  {
   "cell_type": "code",
   "execution_count": 160,
   "id": "85807fe5",
   "metadata": {},
   "outputs": [
    {
     "name": "stdout",
     "output_type": "stream",
     "text": [
      "14.4 ms ± 599 µs per loop (mean ± std. dev. of 7 runs, 100 loops each)\n"
     ]
    }
   ],
   "source": [
    "%timeit select()"
   ]
  },
  {
   "cell_type": "code",
   "execution_count": 154,
   "id": "2d9b39e6",
   "metadata": {},
   "outputs": [],
   "source": [
    "from clickhouse_driver import Client\n",
    "\n",
    "client = Client(host='localhost')"
   ]
  },
  {
   "cell_type": "code",
   "execution_count": 163,
   "id": "2b26adea",
   "metadata": {},
   "outputs": [
    {
     "data": {
      "text/plain": [
       "[]"
      ]
     },
     "execution_count": 163,
     "metadata": {},
     "output_type": "execute_result"
    }
   ],
   "source": [
    "client.execute('CREATE DATABASE IF NOT EXISTS example')\n",
    "client.execute('DROP TABLE IF EXISTS example.test')\n",
    "client.execute('''\n",
    "        CREATE TABLE IF NOT EXISTS example.test (\n",
    "        id Int64, host String, time Int64, method String, response Int32)\n",
    "        Engine=MergeTree() ORDER BY id\n",
    "''')"
   ]
  },
  {
   "cell_type": "code",
   "execution_count": 164,
   "id": "615de522",
   "metadata": {},
   "outputs": [
    {
     "name": "stdout",
     "output_type": "stream",
     "text": [
      "14.5 ms ± 1.73 ms per loop (mean ± std. dev. of 7 runs, 100 loops each)\n"
     ]
    }
   ],
   "source": [
    "insert_data = data.values.tolist()[0:1000]\n",
    "%timeit client.execute('INSERT INTO example.test (id, host, time, method, response) VALUES', params=insert_data) "
   ]
  },
  {
   "cell_type": "code",
   "execution_count": 165,
   "id": "ec8125de",
   "metadata": {},
   "outputs": [
    {
     "name": "stdout",
     "output_type": "stream",
     "text": [
      "1.24 s ± 326 ms per loop (mean ± std. dev. of 7 runs, 1 loop each)\n"
     ]
    }
   ],
   "source": [
    "%timeit client.execute('SELECT * FROM example.test')"
   ]
  }
 ],
 "metadata": {
  "kernelspec": {
   "display_name": "Python 3 (ipykernel)",
   "language": "python",
   "name": "python3"
  },
  "language_info": {
   "codemirror_mode": {
    "name": "ipython",
    "version": 3
   },
   "file_extension": ".py",
   "mimetype": "text/x-python",
   "name": "python",
   "nbconvert_exporter": "python",
   "pygments_lexer": "ipython3",
   "version": "3.10.7"
  }
 },
 "nbformat": 4,
 "nbformat_minor": 5
}
